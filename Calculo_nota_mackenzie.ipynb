{
  "nbformat": 4,
  "nbformat_minor": 0,
  "metadata": {
    "colab": {
      "provenance": [],
      "authorship_tag": "ABX9TyP3cmYvaQ8SqaKD1jw/R/sJ",
      "include_colab_link": true
    },
    "kernelspec": {
      "name": "python3",
      "display_name": "Python 3"
    },
    "language_info": {
      "name": "python"
    }
  },
  "cells": [
    {
      "cell_type": "markdown",
      "metadata": {
        "id": "view-in-github",
        "colab_type": "text"
      },
      "source": [
        "<a href=\"https://colab.research.google.com/github/evelopes/calculo-nota-mackenzie/blob/main/Calculo_nota_mackenzie.ipynb\" target=\"_parent\"><img src=\"https://colab.research.google.com/assets/colab-badge.svg\" alt=\"Open In Colab\"/></a>"
      ]
    },
    {
      "cell_type": "markdown",
      "source": [
        "## CALCULO DA MÉDIA SEMESTRAL COM/SEM A P2(Prova Intermediária 2)\n",
        "### E cálculo nota mínima na PROVA FINAL"
      ],
      "metadata": {
        "id": "8k3kErWZfYT1"
      }
    },
    {
      "cell_type": "code",
      "source": [
        "import math\n",
        "def notaComP2():\n",
        "    p1 = float(input('Avaliação Intermediária 1 (P1): '))\n",
        "    p2 = float(input('Avaliação Intermediária 2 (P2): '))\n",
        "    N2 = float(input('Nota do Moodle (N2): '))\n",
        "    Partic = float(input('Nota de participação (partic): '))\n",
        "    \n",
        "    while Partic > 1:\n",
        "        print('Nota de participação não pode ser superior a 1')\n",
        "        print('Digite a nota de 0.0 até 1.0')\n",
        "        Partic = float(input('Nota de participação: '))\n",
        "        \n",
        "    NS = ((p1 + p2) * 0.3) + (N2 * 0.4) + Partic   \n",
        "    if NS > 10:\n",
        "      print(f'\\nNota semestral será: 10')\n",
        "    else:\n",
        "      print(f'\\nNota semestral será: %.1f' % NS) \n",
        "    \n",
        "    \n",
        "    deuMedia = 6 - NS\n",
        "    \n",
        "    if NS < 6:\n",
        "        print(\"\\nNão é possível fechar o semestre sem Prova Final!\")\n",
        "        falta = (12 - NS)\n",
        "        print('Nota mínima na Prova Final (P3) precisa ser: %.2f' % falta)\n",
        "    else:\n",
        "        print('\\nSua nota atinge a média para passar!')        \n",
        "        resp = input(\"\\n\\nVocê quer calcular outra nota? Digite 1 para SIM ou 2 para NÃO: \")\n",
        "        if resp == \"1\":\n",
        "          main(\"0\")\n",
        "\n",
        "def notaSemP2():\n",
        "    p1 = float(input('Avaliação Intermediária 1 (P1): '))\n",
        "    qseNI = (p1 / 2) * 0.6\n",
        "    N2 = float(input('Nota do Moodle (N2): '))\n",
        "    NI2 = N2 * 0.4\n",
        "    Partic = float(input('Nota de participação (partic): '))\n",
        "    \n",
        "    while Partic > 1:\n",
        "        print('Nota de participação não pode ser superior a 1')\n",
        "        print('Digite a nota de 0.0 até 1.0')\n",
        "        Partic = float(input('Nota de participação: '))\n",
        "        \n",
        "    NS = (((qseNI + NI2)) + Partic)\n",
        "    print(f'\\nSua P1 vai somar {qseNI} na sua nota semestral')\n",
        "    print(f'As atividades do Moodle vão somar %.2f na sua nota semestral' % NI2)\n",
        "    print(f'Nota semestral sem Avaliação Intermediária 2 será: %.1f' % NS)\n",
        "    \n",
        "    deuMedia = 6 - NS\n",
        "    \n",
        "    if NS < 6:\n",
        "        falta = deuMedia / 0.3\n",
        "        if falta > 10:\n",
        "            print(\"\\nNão é possível fechar o semestre só com a Avaliação Intermediária 2!\")\n",
        "        else:\n",
        "            print('\\nNota mínima na Avaliação Intermediária 2 (P2) precisa ser: %.2f' % falta)\n",
        "    else:\n",
        "        print('\\nSua nota atinge a média para passar!')\n",
        "    res = input(\"\\n\\nVocê quer calcular outra nota? Digite 1 para SIM ou 2 para NÃO: \")\n",
        "    if res == \"1\":\n",
        "      main(\"0\")\n",
        "\n",
        "def main(resp):\n",
        "    resposta = resp\n",
        "    \n",
        "    while resposta != \"1\" and resposta != \"2\":\n",
        "      print(\"Você já fez a Avaliação Intermediária 2?\")\n",
        "      resposta = input(\"Digite 1 para SIM ou 2 para NÃO: \")\n",
        "        \n",
        "    if resposta == \"1\":\n",
        "            notaComP2()\n",
        "    elif resposta == \"2\":\n",
        "            notaSemP2()\n",
        "\n",
        "main(0)"
      ],
      "metadata": {
        "id": "pL3jY0Wojjm2",
        "colab": {
          "base_uri": "https://localhost:8080/"
        },
        "outputId": "929e9619-cb91-4c31-92e6-85d309ff322d"
      },
      "execution_count": null,
      "outputs": [
        {
          "output_type": "stream",
          "name": "stdout",
          "text": [
            "Você já fez a Avaliação Intermediária 2?\n",
            "Digite 1 para SIM ou 2 para NÃO: 1\n",
            "Avaliação Intermediária 1 (P1): 5\n",
            "Avaliação Intermediária 2 (P2): 2\n",
            "Nota do Moodle (N2): 3\n",
            "Nota de participação (partic): 1.0\n",
            "\n",
            "Nota semestral será: 4.3\n",
            "\n",
            "Não é possível fechar o semestre sem Prova Final!\n",
            "Nota mínima na Prova Final (P3) precisa ser: 7.70\n"
          ]
        }
      ]
    },
    {
      "cell_type": "code",
      "source": [],
      "metadata": {
        "id": "h6mosQmFNfu0"
      },
      "execution_count": null,
      "outputs": []
    }
  ]
}